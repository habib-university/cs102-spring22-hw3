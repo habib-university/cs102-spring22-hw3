{
  "nbformat": 4,
  "nbformat_minor": 0,
  "metadata": {
    "colab": {
      "name": "CS102 Spring'22 Homework 3",
      "provenance": [],
      "collapsed_sections": [
        "Yb3ETAbYYyok",
        "wFKU9PeMl3X7",
        "9CnUhq9qjIUL"
      ]
    },
    "kernelspec": {
      "name": "python3",
      "display_name": "Python 3"
    },
    "language_info": {
      "name": "python"
    }
  },
  "cells": [
    {
      "cell_type": "markdown",
      "source": [
        "# Homework 3\n",
        "\n",
        "We know graphs are used to represent pair-wise relationships - such as friendship. When we use graphs to represent social relationships then we call them social graphs (aka [social networks](https://en.wikipedia.org/wiki/Social_network)) - such as friendship graphs to represent a friendship relation among a group of people. Similarly, we can use graphs to represent [technological networks](https://www.sci.unich.it/~francesc/teaching/network/technological.html) (such as Power Grid and Internet), [biological networks](https://en.wikipedia.org/wiki/Biological_network) (such as [food web](https://en.wikipedia.org/wiki/Food_web) and [protein-protein interactions](https://en.wikipedia.org/wiki/Protein%E2%80%93protein_interaction), [transport networks](https://en.wikipedia.org/wiki/Transport_network_analysis)(airline and roads networks), and many more kinds of networks. Did you notice the usage of graphs in different domains? \n",
        "\n",
        "The scholars from different domains have been using graphs to solve different kinds of challenging issues in their respective domains. Social scientists are using graph theory to argue social behaviors in our society whereas people from medicine are using graph theory to understand the working of the brain by analyzing signal patterns of neurons. \n",
        "\n",
        "In this homework, you will be implementing Graph ADT and will be using this to solve some interesting problems. \n",
        "\n",
        "**Note:** You can access relevant files at https://github.com/habib-university/cs102-spring22-hw3"
      ],
      "metadata": {
        "id": "3bx_nKoiYNpH"
      }
    },
    {
      "cell_type": "markdown",
      "source": [
        "# Task 1: Friendship Network"
      ],
      "metadata": {
        "id": "kd6zL4BZrJRA"
      }
    },
    {
      "cell_type": "markdown",
      "source": [
        "## Task *1.1*: Graph ADT\n",
        "\n",
        "You have to implement Graph ADT with the following functions. You are free to select an implementation methodology (this can be either using Adjacency List, Adjacency Matrix, Incident Matrix, or Edge list)."
      ],
      "metadata": {
        "id": "Yb3ETAbYYyok"
      }
    },
    {
      "cell_type": "markdown",
      "source": [
        "### Graph consutrction functions"
      ],
      "metadata": {
        "id": "wFKU9PeMl3X7"
      }
    },
    {
      "cell_type": "code",
      "source": [
        "# return an empty graph\n",
        "def Create():\n",
        "  pass\n",
        "\n",
        "# Label can be used to identify a vertex in the graph\n",
        "# this could be a number or a string for example: 1, \"Asim\"\n",
        "def Create(nodes):\n",
        "  # nodes = list of nodes with labels\n",
        "  pass"
      ],
      "metadata": {
        "id": "0-WFTq2Fl5Ke"
      },
      "execution_count": null,
      "outputs": []
    },
    {
      "cell_type": "markdown",
      "source": [
        "### Basic Functions"
      ],
      "metadata": {
        "id": "0sVqcHySfGTU"
      }
    },
    {
      "cell_type": "code",
      "source": [
        "# Add a vertex in the graph with the given label\n",
        "# Do not add a new vertex if a vertex already exists in the graph for the given label\n",
        "def AddVertex(graph, label):\n",
        "  pass\n",
        "\n",
        "# Delete the vertex source the graph having the same label as provided\n",
        "def DeleteVertex(graph, label):\n",
        "  pass\n",
        "\n",
        "# Delete vertices source the graph for the given labels\n",
        "def DeleteVertices(graph, labels):\n",
        "  # labels: a list\n",
        "  pass\n",
        "\n",
        "# For the following functions, do not add/delete an edge if any vertex involved in the edge does not exist.\n",
        "\n",
        "# Add an edge in the graph\n",
        "def AddEdge(graph, source, target, directed):\n",
        "  # source: label to identify the source vertex\n",
        "  # target: lbael to identify the target vertex\n",
        "  # directed: whether the edge is directed or undirected\n",
        "  pass\n",
        "\n",
        "# Add an edge in the graph with a weight\n",
        "def AddWeightedEdge(graph, source, target, weight, directed):\n",
        "  # source: label to identify the source vertex\n",
        "  # target: label to identify the target vertex\n",
        "  # weight: the weight of the edge\n",
        "  # directed: whether the edge is directed or undirected\n",
        "  pass\n",
        "\n",
        "# Add edges in the graph\n",
        "def AddEdges(graph, edges, directed):\n",
        "  # edges: a list containing tuples in the form of (source, target)\n",
        "  #         where 'source' is the label of the source vertex and \n",
        "  #         'target' is the label of the target vertex\n",
        "  # directed: whether edges are directed or undirected\n",
        "  pass\n",
        "\n",
        "# Add weighted edges in the graph\n",
        "def AddWeightedEdges(graph, weighted_edges, directed):\n",
        "  # edges: a list containing tuples in the form of (source, target, weight)\n",
        "  #         where 'source' is the label of the source vertex, and \n",
        "  #         'target' is the label of the target vertex, and\n",
        "  #         'weight' is the weight of the edge\n",
        "  # directed: whether edges are directed or undirected\n",
        "  pass\n",
        "\n",
        "# delete an edge from the graph \n",
        "def DeleteEdge(graph, source, target):\n",
        "  pass\n",
        "\n",
        "# delete set of edges from the graph\n",
        "def DeleteEdges(graph, edges):\n",
        "  # edges: a list of tuples in the form of (source,to)\n",
        "  pass"
      ],
      "metadata": {
        "id": "jw7yQHNba3cG"
      },
      "execution_count": null,
      "outputs": []
    },
    {
      "cell_type": "markdown",
      "source": [
        "### Neighborhood functions\n"
      ],
      "metadata": {
        "id": "N1p03aRogJc_"
      }
    },
    {
      "cell_type": "code",
      "source": [
        "# returns the labels of neighbours of the given vertex \n",
        "def Adjacent(graph, label):\n",
        "  # label: the label of the vertex for which we want to find neighbours\n",
        "  pass\n"
      ],
      "metadata": {
        "id": "ITqc3toMdkAv"
      },
      "execution_count": null,
      "outputs": []
    },
    {
      "cell_type": "markdown",
      "source": [
        "### Search functions"
      ],
      "metadata": {
        "id": "9CnUhq9qjIUL"
      }
    },
    {
      "cell_type": "code",
      "source": [
        "# find the shortest path between vertices 'start' and 'end'\n",
        "# returns the list of labels of vertices including the 'start' and 'end' vertices\n",
        "def BreadthFirstSearch(graph, start, end):\n",
        "  pass\n",
        "\n",
        "# returns true if a vertex exists for the given label\n",
        "# otherwise returns false\n",
        "def IsVertexExists(graph, vertex):\n",
        "  pass\n",
        "\n",
        "# returns true if there is an edge from source to target vertex\n",
        "def IsEdgeExists(graph, source, target):\n",
        "  pass\n",
        "\n",
        "# returns a tuple in the form of (source, target, weight) \n",
        "# if the edge exists from source to target vertex\n",
        "# otherwise returns None\n",
        "def GetEdge(graph, source, target):\n",
        "  pass"
      ],
      "metadata": {
        "id": "hzHpdb8VjL4B"
      },
      "execution_count": null,
      "outputs": []
    },
    {
      "cell_type": "markdown",
      "source": [
        "## Task 1.2: Friendship network\n",
        "\n",
        "We are given a friendship network in form of an edge list. The edges are stored in a file and we have to write a function to load the graph from the file.\n",
        "\n",
        "The first line of the file contains an integer N where 0 ≤ N ≤ 10^5. The next N lines contain two strings S and T separated by space where S and T are friends.\n",
        "\n",
        "The following is an example of a test file.\n",
        "\n",
        "--- \n",
        "5 \\\\\n",
        "Chris Allan \\\\\n",
        "Sara James \\\\\n",
        "James Chris \\\\\n",
        "Daniel Liana \\\\\n",
        "Liana Mason \\\\\n",
        "\n",
        "---\n",
        "\n",
        "Your task is to write the following functions:\n",
        "\n",
        "**LoadGraph:** takes fileName (with path), weighted (True if the file contains weighted edges), and directed (True if the edges are directed) as parameters and returns the graph containing edges as defined in the file. \n",
        "\n",
        "**MutualFriends:** takes graph, v1, and v2 as parameters where v1 and v2 are labels of two vertices and returns a list of mutual friends. If v1 has neighbours X = {v3,v4,v5} and v2 has neighbours Y = {v3,v6,v7} then mutual friends can be find by finding the intersection of X and Y i.e. {v3}\n",
        "\n",
        "**NumberOfFriends:** takes graph and v1 as parameters where v1 is the label of the vertex and returns the number of friends for the given vertex. \n",
        "\n",
        "**FriendRank:** takes graph, v1, and v2 as parameters where v1 and v2 are labels of two vertices. It returns the rank of v2 for the vertex v1. A rank is defined as the minimum number of persons involved between v1 and v2 if v1 has to send a message to v2. For example, for the data given above, the Rank of Allan for Sara is 4 as there are 4 people involved if Sara has to send a message to Allan. Similarly, the rank of Daniel for Liana is 1. \n",
        "\n"
      ],
      "metadata": {
        "id": "hvtsAnWUR4-1"
      }
    },
    {
      "cell_type": "code",
      "source": [
        "def LoadGraph(fileName, weighted, directed):\n",
        "  # weighted = True if the edge list contains weight\n",
        "  # directed = True if the given edge list is for directed graph\n",
        "  pass\n",
        "\n",
        "# return the list of mutural friends for vertices v1 and v2\n",
        "def MutualFriends(graph, v1, v2):\n",
        "  # v1, v2: labels of vertices\n",
        "  pass\n",
        "\n",
        "# returns the rank of friend v2 for v1 in terms of distance\n",
        "def FriendRank(graph, v1, v2):\n",
        "  pass\n",
        "\n",
        "# return the number of friends for the vertex v1\n",
        "def NumberOfFriends(graph, v1):\n",
        "  pass\n"
      ],
      "metadata": {
        "id": "sqvEVshp8-VP"
      },
      "execution_count": null,
      "outputs": []
    },
    {
      "cell_type": "markdown",
      "source": [
        "# Task 2: COVID-19 Patients' Contact Network\n",
        "\n",
        "You and your friend have decided to start a  project to analyze COVID-19 patients' contact network. Your friend will handle the website creation (they know what they are doing, having experience in Web development). However, it is\n",
        " up to you to create a data structure that manages the patients' contact network information  and to implement several procedures that operate on the network.\n",
        "\n",
        "On a website, data is stored in a database. In your case, however, all information comes in a long string of text. Each pair of sentences in the text is formatted as follows: \n",
        "```` \n",
        "<user> is connected to <user1>, ..., <userM>.<user> traveled to <country1>, ..., <countryN>.\n",
        "````\n",
        "\n",
        " Here, each sentence shows the user meetings to other users and his/her travel history. For example:\n",
        "\n",
        "```` \n",
        "Usama is connected to Saeed, Aaliya, Mohsin.Usama traveled to Italy, Japan, Korea.\n",
        "````\n",
        " \n",
        "Note that each sentence will be separated from the next by only a **period (dot).** There will not be a whitespace or new lines between sentences.\n",
        " \n",
        "Your friend records the information in that string based on user activity on the Website and passes it to you to manage. You can think of every pair of sentences as defining a user's profile.\n",
        "\n",
        "Consider the various data structures that we have used in class - lists, dictionaries, and combinations of the two (e.g., lists of dictionaries). Choose one that will allow you to manage the data above and implement the procedures below. \n",
        " \n",
        "You may assume that ***\\<user\\>*** is a unique identifier for a user. For example, there  can be at most one 'Usama' in the network. Furthermore, connections are asymmetric - if 'Jawad' is connected to 'Babar', it does not necessarily mean that 'Babar' is connected to 'Jawad'.\n",
        "\n",
        "Your task is to complete the procedures according to the specifications below. You are encouraged to define any additional helper function/procedure(s) that might assist you in accomplishing a task. You are encouraged to test your code using print statements with different data samples. \n",
        "\n",
        "\n"
      ],
      "metadata": {
        "id": "IlVf9t9YreDW"
      }
    },
    {
      "cell_type": "code",
      "source": [
        "# Example string input. Use it to test your code.\n",
        "example_input=\"Usama is connected to Saeed, Aaliya, Mohsin.\\\n",
        "Usama traveled to Italy, Japan, Korea.\\\n",
        "Saeed is connected to Sumaira, Zehra, Samar, Marium.\\\n",
        "Saeed traveled to China, Afghanistan.\\\n",
        "Marium is connected to Mohsin, Kashif, Saeed.\\\n",
        "Marium traveled to Japan, USA, Iran.\\\n",
        "Sumaira is connected to Usama, Zehra.\\\n",
        "Sumaira traveled to Japan, Saudi Arabia.\\\n",
        "Aaliya is connected to Mohsin, Bari, Sameera, Kashif.\\\n",
        "Aaliya traveled to India, USA, Malaysia.\\\n",
        "Mohsin is connected to Usama, Bari, Saeed.\\\n",
        "Mohsin traveled to Iran, Indonesia, Afghanistan.\\\n",
        "Bari is connected to Zehra, Usama, Mohsin.\\\n",
        "Bari traveled to Japan, India, China.\\\n",
        "Zehra is connected to Marium, Samar, Saeed.\\\n",
        "Zehra traveled to Russia, Malaysia, Italy.\\\n",
        "Sameera is connected to Bari, Usama, Samar, Kashif.\\\n",
        "Sameera traveled to Afghanistan, Korea, Russia.\\\n",
        "Kashif is connected to Zehra.\\\n",
        "Kashif traveled to Russia, Malaysia.\\\n",
        "Samar is connected to Sumaira, Usama, Aaliya.\\\n",
        "Samar traveled to Saudi Arabia, Indonesia, Iran.\"\n"
      ],
      "metadata": {
        "id": "rZ4wlblUtJ6i"
      },
      "execution_count": null,
      "outputs": []
    },
    {
      "cell_type": "code",
      "source": [
        "# create_data_structure(string_input):\n",
        "#   Parses a block of text (such as the one above) and stores relevant \n",
        "#   information into a data structure. You are free to choose and design any \n",
        "#   data structure you would like to use to manage the information.\n",
        "# \n",
        "# Arguments: \n",
        "#   string_input: block of text containing the network information\n",
        "#\n",
        "#   You may assume that for all the test cases we will use, you will be given the information on\n",
        "#   connections and countries traveled for all users listed on the right-hand side of an\n",
        "#   'is connected to' statement. For example, we will not use the string \n",
        "#   \"A is connected to B.A traveled to X, Y, Z.C is connected to A.C traveled to X.\"\n",
        "#   as a test case for create_data_structure because the string does not \n",
        "#   lists B's connections or traveled countries.\n",
        "#   \n",
        "#   The procedure should be able to handle an empty string (the string '') as input, in\n",
        "#   which case it should return an empty data structure ('network').\n",
        "# \n",
        "# Return:\n",
        "#   The newly created network data structure\n",
        "def create_data_structure(string_input):\n",
        "    return network"
      ],
      "metadata": {
        "id": "H8Tx1fGptO4a"
      },
      "execution_count": null,
      "outputs": []
    },
    {
      "cell_type": "markdown",
      "source": [
        "Note that the first argument to all procedures below is a 'network' This is the data structure that you created with your create_data_structure procedure though it may be modified as you add new users or new connections. Each procedure below will then modify or extract information from the 'network'.\n"
      ],
      "metadata": {
        "id": "yUphv1fhtWT2"
      }
    },
    {
      "cell_type": "code",
      "source": [
        "# get_connections(network, user):\n",
        "#   Returns a list of all the connections that the user has\n",
        "#\n",
        "# Arguments: \n",
        "#   network: the patients network data structure\n",
        "#   user:    a string containing the name of the user\n",
        "# \n",
        "# Return: \n",
        "#   A list of all connections the user has.\n",
        "#   - If the user has no connections, return an empty list.\n",
        "#   - If the user is not in network, return None.\n",
        "def get_connections(network, user):\n",
        "\treturn []\n",
        "\n",
        "# ----------------------------------------------------------------------------- \n",
        "# get_countries_traveled(network, user):\n",
        "#   Returns a list of all the countries a user traveled.\n",
        "#\n",
        "# Arguments: \n",
        "#   network: the patients' network data structure\n",
        "#   user:    a string containing the name of the user\n",
        "# \n",
        "# Return: \n",
        "#   A list of all countries the user traveled.\n",
        "#   - If the user traveled no countries, return an empty list.\n",
        "#   - If the user is not in network, return None.\n",
        "def get_countries_traveled(network, user):\n",
        "    return []\n",
        "\n",
        "# ----------------------------------------------------------------------------- \n",
        "# add_connection(network, user_A, user_B): [05 Points]\n",
        "#   Adds a connection from user_A to user_B. Make sure to check that both users \n",
        "#   exist in network.\n",
        "# \n",
        "# Arguments: \n",
        "#   network: the patients network data structure \n",
        "#   user_A:  a string with the name of the user the connection is from\n",
        "#   user_B:  a string with the name of the user the connection is to\n",
        "#\n",
        "# Return: \n",
        "#   The updated network with the new connection added.\n",
        "#   - If a connection already exists from user_A to user_B, the network remains unchanged.\n",
        "#   - If user_A or user_B is not in network, return None.\n",
        "def add_connection(network, user_A, user_B):\n",
        "\treturn network\n",
        "\n",
        "# ----------------------------------------------------------------------------- \n",
        "# add_new_user(network, user, countries): [05 Points]\n",
        "#   Creates a new user profile and adds that user to the network, along with\n",
        "#   any country traveled specified in countries. Assume that the user has no \n",
        "#   connections to begin with.\n",
        "# \n",
        "# Arguments:\n",
        "#   network: the patients network data structure\n",
        "#   user:    a string containing the name of the user to be added to the network\n",
        "#   countries:   a list of strings containing the user's traveled countries, e.g.,\n",
        "#\t\t     ['Indonesia', 'Afghanistan', 'Korea']\n",
        "#\n",
        "# Return: \n",
        "#   The updated network with the new user and countries traveled added. The new user \n",
        "#   should have no connections.\n",
        "#   - If the user already exists in network, return network *UNCHANGED* (do not change\n",
        "#     the user's traveled countries)\n",
        "def add_new_user(network, user, countries):\n",
        "    return network\n",
        "\t\t\n",
        "# ----------------------------------------------------------------------------- \n",
        "# get_secondary_connections(network, user): [15 Points]\n",
        "#   Finds all the secondary connections (i.e., connections of connections) of a\n",
        "#   given user.\n",
        "# \n",
        "# Arguments: \n",
        "#   network: the patients network data structure\n",
        "#   user:    a string containing the name of the user\n",
        "#\n",
        "# Return: \n",
        "#   A list containing the secondary connections (connections of connections).\n",
        "#   - If the user is not in the network, return None.\n",
        "#   - If a user has no primary connections to begin with, return an empty list.\n",
        "# \n",
        "# NOTE: \n",
        "#   It is OK if a user's list of secondary connections includes the user \n",
        "#   himself/herself. It is also OK if the list contains a user's primary \n",
        "#   connection that is a secondary connection as well.\n",
        "def get_secondary_connections(network, user):\n",
        "\treturn []\n",
        "\n",
        "# ----------------------------------------------------------------------------- \t\n",
        "# count_common_connections(network, user_A, user_B): [10 Points]\n",
        "#   Finds the number of people that user_A and user_B have in common.\n",
        "#  \n",
        "# Arguments: \n",
        "#   network: the patients network data structure\n",
        "#   user_A:  a string containing the name of user_A\n",
        "#   user_B:  a string containing the name of user_B\n",
        "#\n",
        "# Return:\n",
        "#   The number of connections in common (as an integer).\n",
        "#   - If user_A or user_B is not in network, return False.\n",
        "def count_common_connections(network, user_A, user_B):\n",
        "    return 0\n",
        "\n",
        "# ----------------------------------------------------------------------------- \n",
        "# find_path_to_patient(network, user_A, user_B):\n",
        "#   Finds a path  from user_A to user_B. It has to be an existing\n",
        "#   path but it DOES NOT have to be the shortest path.\n",
        "#   \n",
        "# Arguments:\n",
        "#   network: The network you created with create_data_structure. \n",
        "#   user_A:  String holding the starting username (\"Abe\")\n",
        "#   user_B:  String holding the ending username (\"Zed\")\n",
        "# \n",
        "# Return:\n",
        "#   A list showing the path from user_A to user_B.\n",
        "#   - If such a path does not exist, return None.\n",
        "#   - If user_A or user_B is not in network, return None.\n",
        "#\n",
        "# Sample output:\n",
        "#   >>> print find_path_to_patient(network, \"Abe\", \"Zed\")\n",
        "#   >>> ['Abe', 'Gel', 'Sam', 'Zed']\n",
        "#   This implies that Abe is connected with Gel, who is connected with Sam, \n",
        "#   who is connected with Zed.\n",
        "# \n",
        "# NOTE:\n",
        "#   You must solve this problem using recursion!\n",
        "# \n",
        "# Hints: \n",
        "# - Be careful how you handle connection loops, for example, A is connected to B. \n",
        "#   B is connected to C. C is connected to B. Make sure your code terminates in \n",
        "#   that case.\n",
        "# - If you are comfortable with default parameters, you might consider using one \n",
        "#   in this procedure to keep track of nodes already visited in your search. You \n",
        "#   may safely add default parameters since all calls used in the grading script \n",
        "#   will only include the arguments network, user_A, and user_B.\n",
        "def find_path_to_patient(network, user_A, user_B):\n",
        "\t# your RECURSIVE solution here!\n",
        "\treturn None\n",
        "\n",
        "# ----------------------------------------------------------------------------- \n",
        "# find_all_possible_paths_to_user(network, user_A, user_B): \n",
        "#   Finds all possible path from user_A to user_B.\n",
        "#  \n",
        "# Arguments:\n",
        "#   network: The network you created with create_data_structure.\n",
        "#   user_A:  String holding the starting username (\"Abe\")\n",
        "#   user_B:  String holding the ending username (\"Zed\")\n",
        "#\n",
        "# Return:\n",
        "#   A nested list which contains sublist of possible paths from user_A to user_B.\n",
        "#   - If there exists no path in between the two users, the function will return an empty list.\n",
        "#   - If user_A or user_B is not in network, return None.\n",
        "#\n",
        "# Sample output:\n",
        "#   >>> find_all_possible_paths_to_user(network, \"Abe\", \"Zed\")\n",
        "#   >>> [['Abe', 'Zed'], ['Abe', 'Tom', 'Zed'], ['Abe', 'Gel', 'Sam', 'Zed']]\n",
        "#\n",
        "def find_all_possible_paths_to_user(network, user_A, user_B):\n",
        "    return []\n"
      ],
      "metadata": {
        "id": "duwXCztDthuz"
      },
      "execution_count": null,
      "outputs": []
    }
  ]
}